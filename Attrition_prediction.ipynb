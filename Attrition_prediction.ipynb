{
  "metadata": {
    "kernelspec": {
      "language": "python",
      "display_name": "Python 3",
      "name": "python3"
    },
    "language_info": {
      "pygments_lexer": "ipython3",
      "nbconvert_exporter": "python",
      "version": "3.6.4",
      "file_extension": ".py",
      "codemirror_mode": {
        "name": "ipython",
        "version": 3
      },
      "name": "python",
      "mimetype": "text/x-python"
    },
    "colab": {
      "name": "Exploration of Employee Attrition ",
      "provenance": []
    }
  },
  "nbformat_minor": 0,
  "nbformat": 4,
  "cells": [
    {
      "source": [
        "\n",
        "# IMPORTANT: RUN THIS CELL IN ORDER TO IMPORT YOUR KAGGLE DATA SOURCES\n",
        "# TO THE CORRECT LOCATION IN YOUR NOTEBOOK,\n",
        "# THEN FEEL FREE TO DELETE THIS CELL.\n",
        "\n",
        "\n",
        "import os\n",
        "import sys\n",
        "from tempfile import NamedTemporaryFile\n",
        "from urllib.request import urlopen\n",
        "from urllib.parse import unquote, urlparse\n",
        "from urllib.error import HTTPError\n",
        "from zipfile import ZipFile\n",
        "import tarfile\n",
        "import shutil\n",
        "\n",
        "CHUNK_SIZE = 40960\n",
        "DATA_SOURCE_MAPPING = 'predicting-employee-attrition:https%3A%2F%2Fstorage.googleapis.com%2Fkaggle-data-sets%2F1736414%2F2838014%2Fbundle%2Farchive.zip%3FX-Goog-Algorithm%3DGOOG4-RSA-SHA256%26X-Goog-Credential%3Dgcp-kaggle-com%2540kaggle-161607.iam.gserviceaccount.com%252F20240314%252Fauto%252Fstorage%252Fgoog4_request%26X-Goog-Date%3D20240314T135425Z%26X-Goog-Expires%3D259200%26X-Goog-SignedHeaders%3Dhost%26X-Goog-Signature%3Dbe8eb4c456e932c04a03915054add39d5ad0373496f2c6e4d915d0640dabea4c6276a9e576f5b298fa6d5b24abecd3fe699a8776a0df1d0ae542de138501eaaa683e4b5b42ded90781ad647d9cad90a5402bf4d1b84cbbe6e1a21f3aa56de2c56057f0577f2f33a2c9253c81a6beaaf40e038b75ac7237b4c196b8a30fb72709839c2c9dde711bad86c81afa5ddb95990fd9913f197c5ccf3e1a92337185a6668d92eef38107e87fd14b17881e622ee0f494e22d43042920c103f310bb8e51eadd5ae6ae49c4a7cac06bfbed52277fafb18942916724d05398184b85731c09524822a9a4eae3e6a71838651de162cf73f3a324c85d7e2fc29bf630cbb2269acc'\n",
        "\n",
        "KAGGLE_INPUT_PATH='/kaggle/input'\n",
        "KAGGLE_WORKING_PATH='/kaggle/working'\n",
        "KAGGLE_SYMLINK='kaggle'\n",
        "\n",
        "!umount /kaggle/input/ 2> /dev/null\n",
        "shutil.rmtree('/kaggle/input', ignore_errors=True)\n",
        "os.makedirs(KAGGLE_INPUT_PATH, 0o777, exist_ok=True)\n",
        "os.makedirs(KAGGLE_WORKING_PATH, 0o777, exist_ok=True)\n",
        "\n",
        "try:\n",
        "  os.symlink(KAGGLE_INPUT_PATH, os.path.join(\"..\", 'input'), target_is_directory=True)\n",
        "except FileExistsError:\n",
        "  pass\n",
        "try:\n",
        "  os.symlink(KAGGLE_WORKING_PATH, os.path.join(\"..\", 'working'), target_is_directory=True)\n",
        "except FileExistsError:\n",
        "  pass\n",
        "\n",
        "for data_source_mapping in DATA_SOURCE_MAPPING.split(','):\n",
        "    directory, download_url_encoded = data_source_mapping.split(':')\n",
        "    download_url = unquote(download_url_encoded)\n",
        "    filename = urlparse(download_url).path\n",
        "    destination_path = os.path.join(KAGGLE_INPUT_PATH, directory)\n",
        "    try:\n",
        "        with urlopen(download_url) as fileres, NamedTemporaryFile() as tfile:\n",
        "            total_length = fileres.headers['content-length']\n",
        "            print(f'Downloading {directory}, {total_length} bytes compressed')\n",
        "            dl = 0\n",
        "            data = fileres.read(CHUNK_SIZE)\n",
        "            while len(data) > 0:\n",
        "                dl += len(data)\n",
        "                tfile.write(data)\n",
        "                done = int(50 * dl / int(total_length))\n",
        "                sys.stdout.write(f\"\\r[{'=' * done}{' ' * (50-done)}] {dl} bytes downloaded\")\n",
        "                sys.stdout.flush()\n",
        "                data = fileres.read(CHUNK_SIZE)\n",
        "            if filename.endswith('.zip'):\n",
        "              with ZipFile(tfile) as zfile:\n",
        "                zfile.extractall(destination_path)\n",
        "            else:\n",
        "              with tarfile.open(tfile.name) as tarfile:\n",
        "                tarfile.extractall(destination_path)\n",
        "            print(f'\\nDownloaded and uncompressed: {directory}')\n",
        "    except HTTPError as e:\n",
        "        print(f'Failed to load (likely expired) {download_url} to path {destination_path}')\n",
        "        continue\n",
        "    except OSError as e:\n",
        "        print(f'Failed to load {download_url} to path {destination_path}')\n",
        "        continue\n",
        "\n",
        "print('Data source import complete.')\n"
      ],
      "metadata": {
        "id": "KoqXTOznPi9H"
      },
      "cell_type": "code",
      "outputs": [],
      "execution_count": null
    },
    {
      "cell_type": "markdown",
      "source": [
        "# Import Libraries"
      ],
      "metadata": {
        "id": "9d16EsTyPi9M"
      }
    },
    {
      "cell_type": "code",
      "source": [
        "# This Python 3 environment comes with many helpful analytics libraries installed\n",
        "# It is defined by the kaggle/python Docker image: https://github.com/kaggle/docker-python\n",
        "# For example, here's several helpful packages to load\n",
        "\n",
        "import numpy as np # linear algebra\n",
        "import pandas as pd # data processing, CSV file I/O (e.g. pd.read_csv)\n",
        "import matplotlib.pyplot as plt # for plotting graphs\n",
        "import seaborn as sns # for plotting graphs\n",
        "import warnings\n",
        "warnings.filterwarnings(\"ignore\")\n",
        "\n",
        "# Input data files are available in the read-only \"../input/\" directory\n",
        "# For example, running this (by clicking run or pressing Shift+Enter) will list all files under the input directory\n",
        "\n",
        "import os\n",
        "for dirname, _, filenames in os.walk('/kaggle/input'):\n",
        "    for filename in filenames:\n",
        "        print(os.path.join(dirname, filename))\n",
        "\n",
        "# You can write up to 20GB to the current directory (/kaggle/working/) that gets preserved as output when you create a version using \"Save & Run All\"\n",
        "# You can also write temporary files to /kaggle/temp/, but they won't be saved outside of the current session"
      ],
      "metadata": {
        "_uuid": "8f2839f25d086af736a60e9eeb907d3b93b6e0e5",
        "_cell_guid": "b1076dfc-b9ad-4769-8c92-a6c4dae69d19",
        "execution": {
          "iopub.status.busy": "2021-11-22T09:10:23.033107Z",
          "iopub.execute_input": "2021-11-22T09:10:23.033522Z",
          "iopub.status.idle": "2021-11-22T09:10:23.870554Z",
          "shell.execute_reply.started": "2021-11-22T09:10:23.033394Z",
          "shell.execute_reply": "2021-11-22T09:10:23.869671Z"
        },
        "trusted": true,
        "id": "nmeN0KA_Pi9O"
      },
      "execution_count": null,
      "outputs": []
    },
    {
      "cell_type": "code",
      "source": [
        "train = pd.read_csv('/kaggle/input/predicting-employee-attrition/train_data.csv')"
      ],
      "metadata": {
        "execution": {
          "iopub.status.busy": "2021-11-22T09:10:23.872087Z",
          "iopub.execute_input": "2021-11-22T09:10:23.872482Z",
          "iopub.status.idle": "2021-11-22T09:10:23.919403Z",
          "shell.execute_reply.started": "2021-11-22T09:10:23.872437Z",
          "shell.execute_reply": "2021-11-22T09:10:23.918558Z"
        },
        "trusted": true,
        "id": "DexDooHpPi9P"
      },
      "execution_count": null,
      "outputs": []
    },
    {
      "cell_type": "code",
      "source": [
        "train.head()"
      ],
      "metadata": {
        "execution": {
          "iopub.status.busy": "2021-11-22T09:10:23.922065Z",
          "iopub.execute_input": "2021-11-22T09:10:23.922747Z",
          "iopub.status.idle": "2021-11-22T09:10:23.946344Z",
          "shell.execute_reply.started": "2021-11-22T09:10:23.922714Z",
          "shell.execute_reply": "2021-11-22T09:10:23.945544Z"
        },
        "trusted": true,
        "id": "72DPm9aHPi9P"
      },
      "execution_count": null,
      "outputs": []
    },
    {
      "cell_type": "code",
      "source": [
        "train.info()"
      ],
      "metadata": {
        "execution": {
          "iopub.status.busy": "2021-11-22T09:10:23.949474Z",
          "iopub.execute_input": "2021-11-22T09:10:23.950206Z",
          "iopub.status.idle": "2021-11-22T09:10:23.979195Z",
          "shell.execute_reply.started": "2021-11-22T09:10:23.950159Z",
          "shell.execute_reply": "2021-11-22T09:10:23.978347Z"
        },
        "trusted": true,
        "id": "N-Eq0adJPi9Q"
      },
      "execution_count": null,
      "outputs": []
    },
    {
      "cell_type": "code",
      "source": [
        "train['MMM-YY'].describe()"
      ],
      "metadata": {
        "execution": {
          "iopub.status.busy": "2021-11-22T09:10:23.980636Z",
          "iopub.execute_input": "2021-11-22T09:10:23.981207Z",
          "iopub.status.idle": "2021-11-22T09:10:23.990438Z",
          "shell.execute_reply.started": "2021-11-22T09:10:23.981164Z",
          "shell.execute_reply": "2021-11-22T09:10:23.989881Z"
        },
        "trusted": true,
        "id": "YNqpoyanPi9Q"
      },
      "execution_count": null,
      "outputs": []
    },
    {
      "cell_type": "code",
      "source": [
        "train['MMM-YY'] = pd.to_datetime(train['MMM-YY'])\n",
        "train['Dateofjoining'] = pd.to_datetime(train['Dateofjoining'])\n",
        "train['LastWorkingDate'] = pd.to_datetime(train['LastWorkingDate'])"
      ],
      "metadata": {
        "execution": {
          "iopub.status.busy": "2021-11-22T09:10:23.991313Z",
          "iopub.execute_input": "2021-11-22T09:10:23.991799Z",
          "iopub.status.idle": "2021-11-22T09:10:24.016882Z",
          "shell.execute_reply.started": "2021-11-22T09:10:23.991771Z",
          "shell.execute_reply": "2021-11-22T09:10:24.015934Z"
        },
        "trusted": true,
        "id": "2b9uMLx-Pi9R"
      },
      "execution_count": null,
      "outputs": []
    },
    {
      "cell_type": "markdown",
      "source": [
        "# Feature Engineering"
      ],
      "metadata": {
        "id": "yLrmeNMgPi9R"
      }
    },
    {
      "cell_type": "code",
      "source": [
        "uniqueemployeesdata= train[['Emp_ID', 'Age', 'Gender', 'City', 'Education_Level',\n",
        "       'Salary', 'Dateofjoining', 'Joining Designation','Designation']].drop_duplicates()"
      ],
      "metadata": {
        "execution": {
          "iopub.status.busy": "2021-11-22T09:10:24.018144Z",
          "iopub.execute_input": "2021-11-22T09:10:24.018374Z",
          "iopub.status.idle": "2021-11-22T09:10:24.036746Z",
          "shell.execute_reply.started": "2021-11-22T09:10:24.018346Z",
          "shell.execute_reply": "2021-11-22T09:10:24.036079Z"
        },
        "trusted": true,
        "id": "tZOiHIV9Pi9S"
      },
      "execution_count": null,
      "outputs": []
    },
    {
      "cell_type": "code",
      "source": [
        "# get the target column set\n",
        "employeeswholeft = train[~train['LastWorkingDate'].isna()]\n",
        "employeeswholeft['Y']=0\n",
        "uniqueemployeesdata = uniqueemployeesdata.merge(employeeswholeft[['Emp_ID','Y']],on='Emp_ID',how='left')\n",
        "uniqueemployeesdata['Y']=uniqueemployeesdata['Y'].fillna(1)"
      ],
      "metadata": {
        "execution": {
          "iopub.status.busy": "2021-11-22T09:10:24.037786Z",
          "iopub.execute_input": "2021-11-22T09:10:24.038193Z",
          "iopub.status.idle": "2021-11-22T09:10:24.054934Z",
          "shell.execute_reply.started": "2021-11-22T09:10:24.038161Z",
          "shell.execute_reply": "2021-11-22T09:10:24.054077Z"
        },
        "trusted": true,
        "id": "0PPM5XxOPi9S"
      },
      "execution_count": null,
      "outputs": []
    },
    {
      "cell_type": "code",
      "source": [
        "employeeage = train.groupby('Emp_ID').count()['City']\n",
        "employeeage = employeeage.reset_index()\n",
        "employeeage.columns = ['Emp_ID','Periodwithus']\n",
        "uniqueemployeesdata=  uniqueemployeesdata.merge(employeeage,on='Emp_ID',how='left')"
      ],
      "metadata": {
        "execution": {
          "iopub.status.busy": "2021-11-22T09:10:24.056411Z",
          "iopub.execute_input": "2021-11-22T09:10:24.056887Z",
          "iopub.status.idle": "2021-11-22T09:10:24.076194Z",
          "shell.execute_reply.started": "2021-11-22T09:10:24.056845Z",
          "shell.execute_reply": "2021-11-22T09:10:24.075306Z"
        },
        "trusted": true,
        "id": "yCyrWJC3Pi9T"
      },
      "execution_count": null,
      "outputs": []
    },
    {
      "cell_type": "code",
      "source": [
        "uniqueemployeesdata = uniqueemployeesdata.merge(pd.pivot_table(train,index='Emp_ID',values=['Total Business Value','Quarterly Rating'],aggfunc='mean').reset_index(),on='Emp_ID',how='left')"
      ],
      "metadata": {
        "execution": {
          "iopub.status.busy": "2021-11-22T09:10:24.078359Z",
          "iopub.execute_input": "2021-11-22T09:10:24.07859Z",
          "iopub.status.idle": "2021-11-22T09:10:24.099041Z",
          "shell.execute_reply.started": "2021-11-22T09:10:24.078562Z",
          "shell.execute_reply": "2021-11-22T09:10:24.098226Z"
        },
        "trusted": true,
        "id": "3qyvzANQPi9T"
      },
      "execution_count": null,
      "outputs": []
    },
    {
      "cell_type": "code",
      "source": [
        "# time business done\n",
        "uniqueemployeesdata['timesbusinessdone'] = uniqueemployeesdata['Total Business Value']/uniqueemployeesdata['Salary']"
      ],
      "metadata": {
        "execution": {
          "iopub.status.busy": "2021-11-22T09:10:24.100206Z",
          "iopub.execute_input": "2021-11-22T09:10:24.100499Z",
          "iopub.status.idle": "2021-11-22T09:10:24.10597Z",
          "shell.execute_reply.started": "2021-11-22T09:10:24.100469Z",
          "shell.execute_reply": "2021-11-22T09:10:24.105081Z"
        },
        "trusted": true,
        "id": "3mQKagTEPi9U"
      },
      "execution_count": null,
      "outputs": []
    },
    {
      "cell_type": "code",
      "source": [
        "# reversal happend for employees\n",
        "reversals = train[train['Total Business Value']<0]\n",
        "reversals['reversal']=1\n",
        "uniqueemployeesdata=uniqueemployeesdata.merge(reversals[['Emp_ID','reversal']].drop_duplicates(),on='Emp_ID',how='left')\n",
        "uniqueemployeesdata['reversal']=uniqueemployeesdata['reversal'].fillna(0)"
      ],
      "metadata": {
        "execution": {
          "iopub.status.busy": "2021-11-22T09:10:24.107397Z",
          "iopub.execute_input": "2021-11-22T09:10:24.107949Z",
          "iopub.status.idle": "2021-11-22T09:10:24.124024Z",
          "shell.execute_reply.started": "2021-11-22T09:10:24.107906Z",
          "shell.execute_reply": "2021-11-22T09:10:24.123374Z"
        },
        "trusted": true,
        "id": "E0NmdF4WPi9U"
      },
      "execution_count": null,
      "outputs": []
    },
    {
      "cell_type": "code",
      "source": [
        "# zero business count\n",
        "zeroperformance = train[train['Total Business Value']==0]\n",
        "zeroperformance = zeroperformance.groupby('Emp_ID').count()['Age'].reset_index()\n",
        "zeroperformance.columns = ['Emp_ID','zeroperformance']\n",
        "uniqueemployeesdata = uniqueemployeesdata.merge(zeroperformance.drop_duplicates(),on='Emp_ID',how='left')"
      ],
      "metadata": {
        "execution": {
          "iopub.status.busy": "2021-11-22T09:10:24.12525Z",
          "iopub.execute_input": "2021-11-22T09:10:24.125699Z",
          "iopub.status.idle": "2021-11-22T09:10:24.143293Z",
          "shell.execute_reply.started": "2021-11-22T09:10:24.125659Z",
          "shell.execute_reply": "2021-11-22T09:10:24.142527Z"
        },
        "trusted": true,
        "id": "oB65npBVPi9U"
      },
      "execution_count": null,
      "outputs": []
    },
    {
      "cell_type": "code",
      "source": [
        "# months where coverage less than salary\n",
        "train['timesbusiness'] = train['Total Business Value']/train['Salary']\n",
        "businesslesscoverage = train[train['timesbusiness']<1]\n",
        "businesslesscoverage=businesslesscoverage.groupby('Emp_ID').count()['Age'].reset_index()\n",
        "businesslesscoverage.columns=['Emp_ID','Businesslessthansalary']\n",
        "uniqueemployeesdata=uniqueemployeesdata.merge(businesslesscoverage[['Emp_ID','Businesslessthansalary']].drop_duplicates(),on='Emp_ID',how='left')\n",
        "uniqueemployeesdata['Businesslessthansalary']=uniqueemployeesdata['Businesslessthansalary'].fillna(0)"
      ],
      "metadata": {
        "execution": {
          "iopub.status.busy": "2021-11-22T09:10:24.144342Z",
          "iopub.execute_input": "2021-11-22T09:10:24.14455Z",
          "iopub.status.idle": "2021-11-22T09:10:24.164943Z",
          "shell.execute_reply.started": "2021-11-22T09:10:24.144526Z",
          "shell.execute_reply": "2021-11-22T09:10:24.164199Z"
        },
        "trusted": true,
        "id": "Kmw-b__lPi9V"
      },
      "execution_count": null,
      "outputs": []
    },
    {
      "cell_type": "code",
      "source": [
        "# Change in designation\n",
        "changedesignation = train[train['Joining Designation'] != train['Designation']]\n",
        "changedesignation['changedesignation']=1\n",
        "changedesignation = changedesignation[['Emp_ID','changedesignation']].drop_duplicates()\n",
        "uniqueemployeesdata = uniqueemployeesdata.merge(changedesignation[['Emp_ID','changedesignation']].drop_duplicates(),on='Emp_ID',how='left')\n",
        "uniqueemployeesdata['changedesignation'] = uniqueemployeesdata['changedesignation'].fillna(0)"
      ],
      "metadata": {
        "execution": {
          "iopub.status.busy": "2021-11-22T09:10:24.165994Z",
          "iopub.execute_input": "2021-11-22T09:10:24.166744Z",
          "iopub.status.idle": "2021-11-22T09:10:24.184956Z",
          "shell.execute_reply.started": "2021-11-22T09:10:24.16671Z",
          "shell.execute_reply": "2021-11-22T09:10:24.184118Z"
        },
        "trusted": true,
        "id": "fLKReTyiPi9V"
      },
      "execution_count": null,
      "outputs": []
    },
    {
      "cell_type": "code",
      "source": [
        "# Last rating before leaving\n",
        "lastrating = train[['Emp_ID','Quarterly Rating']].drop_duplicates( subset='Emp_ID',keep='last')\n",
        "lastrating.columns = ['Emp_ID','Last Rating']\n",
        "uniqueemployeesdata = uniqueemployeesdata.merge(lastrating,on='Emp_ID',how='left')"
      ],
      "metadata": {
        "execution": {
          "iopub.status.busy": "2021-11-22T09:10:24.186277Z",
          "iopub.execute_input": "2021-11-22T09:10:24.1865Z",
          "iopub.status.idle": "2021-11-22T09:10:24.199441Z",
          "shell.execute_reply.started": "2021-11-22T09:10:24.186473Z",
          "shell.execute_reply": "2021-11-22T09:10:24.198784Z"
        },
        "trusted": true,
        "id": "wBhuYfJOPi9W"
      },
      "execution_count": null,
      "outputs": []
    },
    {
      "cell_type": "code",
      "source": [
        "uniqueemployeesdata.head()"
      ],
      "metadata": {
        "execution": {
          "iopub.status.busy": "2021-11-22T09:10:24.200597Z",
          "iopub.execute_input": "2021-11-22T09:10:24.201445Z",
          "iopub.status.idle": "2021-11-22T09:10:24.221547Z",
          "shell.execute_reply.started": "2021-11-22T09:10:24.20141Z",
          "shell.execute_reply": "2021-11-22T09:10:24.220939Z"
        },
        "trusted": true,
        "id": "fiQezoSvPi9W"
      },
      "execution_count": null,
      "outputs": []
    },
    {
      "cell_type": "code",
      "source": [
        "plt.figure(figsize=(15,7.5))\n",
        "uniqueemployeesdata=uniqueemployeesdata[['Emp_ID', 'Age', 'City', 'Education_Level', 'Salary', 'Dateofjoining',\n",
        "       'Joining Designation', 'Designation', 'Quarterly Rating',\n",
        "       'Total Business Value', 'Gender',\n",
        "       'timesbusinessdone','reversal','zeroperformance','Businesslessthansalary','changedesignation','Last Rating','Periodwithus','Y']]\n",
        "df4_corr=uniqueemployeesdata.corr()\n",
        "sns.heatmap(df4_corr,annot=True)"
      ],
      "metadata": {
        "execution": {
          "iopub.status.busy": "2021-11-22T09:10:24.22259Z",
          "iopub.execute_input": "2021-11-22T09:10:24.222906Z",
          "iopub.status.idle": "2021-11-22T09:10:25.854034Z",
          "shell.execute_reply.started": "2021-11-22T09:10:24.222879Z",
          "shell.execute_reply": "2021-11-22T09:10:25.853393Z"
        },
        "trusted": true,
        "id": "Q2tlwm_TPi9W"
      },
      "execution_count": null,
      "outputs": []
    },
    {
      "cell_type": "code",
      "source": [
        "!pip install pycaret"
      ],
      "metadata": {
        "execution": {
          "iopub.status.busy": "2021-11-22T09:10:58.952836Z",
          "iopub.execute_input": "2021-11-22T09:10:58.953681Z",
          "iopub.status.idle": "2021-11-22T09:11:35.500168Z",
          "shell.execute_reply.started": "2021-11-22T09:10:58.95364Z",
          "shell.execute_reply": "2021-11-22T09:11:35.499395Z"
        },
        "_kg_hide-output": true,
        "trusted": true,
        "id": "a1kFOGF7Pi9X"
      },
      "execution_count": null,
      "outputs": []
    },
    {
      "cell_type": "markdown",
      "source": [
        "# Model Evaluation"
      ],
      "metadata": {
        "id": "tz8O--MuPi9X"
      }
    },
    {
      "cell_type": "code",
      "source": [
        "from pycaret.classification import *\n",
        "s = setup(uniqueemployeesdata, target = 'Y', ignore_features = ['Emp_ID','Dateofjoining'])"
      ],
      "metadata": {
        "execution": {
          "iopub.status.busy": "2021-11-22T09:12:47.499903Z",
          "iopub.execute_input": "2021-11-22T09:12:47.500629Z",
          "iopub.status.idle": "2021-11-22T09:12:55.30734Z",
          "shell.execute_reply.started": "2021-11-22T09:12:47.500587Z",
          "shell.execute_reply": "2021-11-22T09:12:55.306696Z"
        },
        "trusted": true,
        "id": "-JNX9oIMPi9X"
      },
      "execution_count": null,
      "outputs": []
    },
    {
      "cell_type": "code",
      "source": [
        "best_model = compare_models(sort='AUC')"
      ],
      "metadata": {
        "execution": {
          "iopub.status.busy": "2021-11-22T09:13:17.81713Z",
          "iopub.execute_input": "2021-11-22T09:13:17.817575Z",
          "iopub.status.idle": "2021-11-22T09:17:13.063608Z",
          "shell.execute_reply.started": "2021-11-22T09:13:17.81753Z",
          "shell.execute_reply": "2021-11-22T09:17:13.062689Z"
        },
        "trusted": true,
        "id": "MhNoMqFGPi9Y"
      },
      "execution_count": null,
      "outputs": []
    },
    {
      "cell_type": "code",
      "source": [
        "best_model"
      ],
      "metadata": {
        "execution": {
          "iopub.status.busy": "2021-11-22T09:17:35.863317Z",
          "iopub.execute_input": "2021-11-22T09:17:35.863958Z",
          "iopub.status.idle": "2021-11-22T09:17:35.870991Z",
          "shell.execute_reply.started": "2021-11-22T09:17:35.863921Z",
          "shell.execute_reply": "2021-11-22T09:17:35.870083Z"
        },
        "trusted": true,
        "id": "xLRoIZ6OPi9Y"
      },
      "execution_count": null,
      "outputs": []
    },
    {
      "cell_type": "code",
      "source": [
        "tuned_best_model = tune_model(best_model)"
      ],
      "metadata": {
        "execution": {
          "iopub.status.busy": "2021-11-22T09:17:39.357168Z",
          "iopub.execute_input": "2021-11-22T09:17:39.357892Z",
          "iopub.status.idle": "2021-11-22T09:18:10.216039Z",
          "shell.execute_reply.started": "2021-11-22T09:17:39.357841Z",
          "shell.execute_reply": "2021-11-22T09:18:10.215067Z"
        },
        "trusted": true,
        "id": "SRI95u3uPi9Y"
      },
      "execution_count": null,
      "outputs": []
    },
    {
      "cell_type": "code",
      "source": [
        "# performance of coverage\n",
        "plot_model(tuned_best_model, plot = 'auc')"
      ],
      "metadata": {
        "execution": {
          "iopub.status.busy": "2021-11-22T09:18:22.173919Z",
          "iopub.execute_input": "2021-11-22T09:18:22.174519Z",
          "iopub.status.idle": "2021-11-22T09:18:23.206167Z",
          "shell.execute_reply.started": "2021-11-22T09:18:22.174464Z",
          "shell.execute_reply": "2021-11-22T09:18:23.205307Z"
        },
        "trusted": true,
        "id": "cwKLdpGIPi9Z"
      },
      "execution_count": null,
      "outputs": []
    },
    {
      "cell_type": "code",
      "source": [
        "# feature importance\n",
        "plot_model(tuned_best_model, plot = 'feature')"
      ],
      "metadata": {
        "execution": {
          "iopub.status.busy": "2021-11-22T09:18:52.79669Z",
          "iopub.execute_input": "2021-11-22T09:18:52.797018Z",
          "iopub.status.idle": "2021-11-22T09:18:53.687845Z",
          "shell.execute_reply.started": "2021-11-22T09:18:52.796968Z",
          "shell.execute_reply": "2021-11-22T09:18:53.686956Z"
        },
        "trusted": true,
        "id": "wgJ_oEpxPi9Z"
      },
      "execution_count": null,
      "outputs": []
    },
    {
      "cell_type": "code",
      "source": [
        "# confusion matrix\n",
        "plot_model(tuned_best_model, plot = 'confusion_matrix')"
      ],
      "metadata": {
        "execution": {
          "iopub.status.busy": "2021-11-22T09:19:23.59809Z",
          "iopub.execute_input": "2021-11-22T09:19:23.598396Z",
          "iopub.status.idle": "2021-11-22T09:19:24.52209Z",
          "shell.execute_reply.started": "2021-11-22T09:19:23.598363Z",
          "shell.execute_reply": "2021-11-22T09:19:24.521441Z"
        },
        "trusted": true,
        "id": "tAbq3YjWPi9a"
      },
      "execution_count": null,
      "outputs": []
    },
    {
      "cell_type": "code",
      "source": [
        "test = pd.read_csv('/kaggle/input/predicting-employee-attrition/test_data.csv')"
      ],
      "metadata": {
        "execution": {
          "iopub.status.busy": "2021-11-22T09:21:34.93591Z",
          "iopub.execute_input": "2021-11-22T09:21:34.936269Z",
          "iopub.status.idle": "2021-11-22T09:21:34.950579Z",
          "shell.execute_reply.started": "2021-11-22T09:21:34.936233Z",
          "shell.execute_reply": "2021-11-22T09:21:34.949552Z"
        },
        "trusted": true,
        "id": "ZgACI-qHPi9a"
      },
      "execution_count": null,
      "outputs": []
    },
    {
      "cell_type": "code",
      "source": [
        "testset = uniqueemployeesdata[uniqueemployeesdata['Emp_ID'].isin(test['Emp_ID'])]\n",
        "testset= testset.drop_duplicates()"
      ],
      "metadata": {
        "execution": {
          "iopub.status.busy": "2021-11-22T09:21:38.001428Z",
          "iopub.execute_input": "2021-11-22T09:21:38.001704Z",
          "iopub.status.idle": "2021-11-22T09:21:38.014744Z",
          "shell.execute_reply.started": "2021-11-22T09:21:38.001676Z",
          "shell.execute_reply": "2021-11-22T09:21:38.013667Z"
        },
        "trusted": true,
        "id": "NxqF5YMaPi9a"
      },
      "execution_count": null,
      "outputs": []
    },
    {
      "cell_type": "code",
      "source": [
        "et = create_model('et')\n",
        "tuned_et = tune_model(et)\n",
        "predict_model(tuned_et)"
      ],
      "metadata": {
        "execution": {
          "iopub.status.busy": "2021-11-22T09:22:11.555381Z",
          "iopub.execute_input": "2021-11-22T09:22:11.556267Z",
          "iopub.status.idle": "2021-11-22T09:22:47.433114Z",
          "shell.execute_reply.started": "2021-11-22T09:22:11.556212Z",
          "shell.execute_reply": "2021-11-22T09:22:47.43228Z"
        },
        "trusted": true,
        "id": "rHM5Q67YPi9b"
      },
      "execution_count": null,
      "outputs": []
    },
    {
      "cell_type": "code",
      "source": [
        "final_et = finalize_model(tuned_et)\n",
        "unseen_predictions = predict_model(final_et, data=testset)\n",
        "predictionsfinal= unseen_predictions[['Emp_ID','Label']].drop_duplicates()"
      ],
      "metadata": {
        "execution": {
          "iopub.status.busy": "2021-11-22T09:23:08.354914Z",
          "iopub.execute_input": "2021-11-22T09:23:08.355249Z",
          "iopub.status.idle": "2021-11-22T09:23:17.362151Z",
          "shell.execute_reply.started": "2021-11-22T09:23:08.355211Z",
          "shell.execute_reply": "2021-11-22T09:23:17.36151Z"
        },
        "trusted": true,
        "id": "m0uW-vGdPi9b"
      },
      "execution_count": null,
      "outputs": []
    },
    {
      "cell_type": "code",
      "source": [
        "predictionsfinal.head()"
      ],
      "metadata": {
        "execution": {
          "iopub.status.busy": "2021-11-22T09:24:06.077481Z",
          "iopub.execute_input": "2021-11-22T09:24:06.077782Z",
          "iopub.status.idle": "2021-11-22T09:24:06.087052Z",
          "shell.execute_reply.started": "2021-11-22T09:24:06.077747Z",
          "shell.execute_reply": "2021-11-22T09:24:06.08607Z"
        },
        "trusted": true,
        "id": "qTUiHaO5Pi9b"
      },
      "execution_count": null,
      "outputs": []
    },
    {
      "cell_type": "code",
      "source": [
        "predictionsfinal = predictionsfinal.drop_duplicates( subset='Emp_ID',keep='last')\n",
        "predictionsfinal.to_csv('predictions.csv')"
      ],
      "metadata": {
        "execution": {
          "iopub.status.busy": "2021-11-22T09:23:56.556196Z",
          "iopub.execute_input": "2021-11-22T09:23:56.556913Z",
          "iopub.status.idle": "2021-11-22T09:23:56.568942Z",
          "shell.execute_reply.started": "2021-11-22T09:23:56.556874Z",
          "shell.execute_reply": "2021-11-22T09:23:56.56816Z"
        },
        "trusted": true,
        "id": "67PL-zY-Pi9b"
      },
      "execution_count": null,
      "outputs": []
    },
    {
      "cell_type": "markdown",
      "source": [
        "Upvote, If you like the work. Thank you."
      ],
      "metadata": {
        "id": "MDg6GOlcPi9c"
      }
    }
  ]
}