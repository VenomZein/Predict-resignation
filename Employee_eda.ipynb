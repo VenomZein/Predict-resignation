{
  "metadata": {
    "kernelspec": {
      "language": "python",
      "display_name": "Python 3",
      "name": "python3"
    },
    "language_info": {
      "pygments_lexer": "ipython3",
      "nbconvert_exporter": "python",
      "version": "3.6.4",
      "file_extension": ".py",
      "codemirror_mode": {
        "name": "ipython",
        "version": 3
      },
      "name": "python",
      "mimetype": "text/x-python"
    },
    "kaggle": {
      "accelerator": "gpu",
      "dataSources": [
        {
          "sourceId": 2838014,
          "sourceType": "datasetVersion",
          "datasetId": 1736414
        }
      ],
      "dockerImageVersionId": 30146,
      "isInternetEnabled": true,
      "language": "python",
      "sourceType": "notebook",
      "isGpuEnabled": true
    },
    "colab": {
      "name": "Employee Attrition",
      "provenance": []
    }
  },
  "nbformat_minor": 0,
  "nbformat": 4,
  "cells": [
    {
      "source": [
        "# IMPORTANT: RUN THIS CELL IN ORDER TO IMPORT YOUR KAGGLE DATA SOURCES\n",
        "# TO THE CORRECT LOCATION IN YOUR NOTEBOOK,\n",
        "# THEN FEEL FREE TO DELETE THIS CELL.\n",
        "\n",
        "\n",
        "import os\n",
        "import sys\n",
        "from tempfile import NamedTemporaryFile\n",
        "from urllib.request import urlopen\n",
        "from urllib.parse import unquote, urlparse\n",
        "from urllib.error import HTTPError\n",
        "from zipfile import ZipFile\n",
        "import tarfile\n",
        "import shutil\n",
        "\n",
        "CHUNK_SIZE = 40960\n",
        "DATA_SOURCE_MAPPING = 'predicting-employee-attrition:https%3A%2F%2Fstorage.googleapis.com%2Fkaggle-data-sets%2F1736414%2F2838014%2Fbundle%2Farchive.zip%3FX-Goog-Algorithm%3DGOOG4-RSA-SHA256%26X-Goog-Credential%3Dgcp-kaggle-com%2540kaggle-161607.iam.gserviceaccount.com%252F20240314%252Fauto%252Fstorage%252Fgoog4_request%26X-Goog-Date%3D20240314T140249Z%26X-Goog-Expires%3D259200%26X-Goog-SignedHeaders%3Dhost%26X-Goog-Signature%3D769278942d3efa796e32c647bd5f450b5ac1cafc4aaa2c6f42fa11fdb6bcca0b2460534258aff098ac38b4c3f8b8b7f03a1dd9a93dc6580f8d8b3a02fd67447615f6ca0708d030fea5bcd63f073f0f70bb1d1ed5e702339676178231515598760360c70c5c6cefb96c38b71b7fff49a05f0df0873aefa9afaf9355b3f1d4dcfacf1f94b10dd1f8f267da5ed652c556fb6906132dcb777a5439b1a0eddbf90a694576982d48a67a9260af49d99c7a8154dde996f6f8d1129775739d8e8726bd8524c5d730100162af723aa7513bf3d8a8ccdf5dc61806d4538dfdf16c28a8891c04252c80f93c0c13d6cbda94504be69a0dada9ec1324592b5c73068008e72ab8'\n",
        "\n",
        "KAGGLE_INPUT_PATH='/kaggle/input'\n",
        "KAGGLE_WORKING_PATH='/kaggle/working'\n",
        "KAGGLE_SYMLINK='kaggle'\n",
        "\n",
        "!umount /kaggle/input/ 2> /dev/null\n",
        "shutil.rmtree('/kaggle/input', ignore_errors=True)\n",
        "os.makedirs(KAGGLE_INPUT_PATH, 0o777, exist_ok=True)\n",
        "os.makedirs(KAGGLE_WORKING_PATH, 0o777, exist_ok=True)\n",
        "\n",
        "try:\n",
        "  os.symlink(KAGGLE_INPUT_PATH, os.path.join(\"..\", 'input'), target_is_directory=True)\n",
        "except FileExistsError:\n",
        "  pass\n",
        "try:\n",
        "  os.symlink(KAGGLE_WORKING_PATH, os.path.join(\"..\", 'working'), target_is_directory=True)\n",
        "except FileExistsError:\n",
        "  pass\n",
        "\n",
        "for data_source_mapping in DATA_SOURCE_MAPPING.split(','):\n",
        "    directory, download_url_encoded = data_source_mapping.split(':')\n",
        "    download_url = unquote(download_url_encoded)\n",
        "    filename = urlparse(download_url).path\n",
        "    destination_path = os.path.join(KAGGLE_INPUT_PATH, directory)\n",
        "    try:\n",
        "        with urlopen(download_url) as fileres, NamedTemporaryFile() as tfile:\n",
        "            total_length = fileres.headers['content-length']\n",
        "            print(f'Downloading {directory}, {total_length} bytes compressed')\n",
        "            dl = 0\n",
        "            data = fileres.read(CHUNK_SIZE)\n",
        "            while len(data) > 0:\n",
        "                dl += len(data)\n",
        "                tfile.write(data)\n",
        "                done = int(50 * dl / int(total_length))\n",
        "                sys.stdout.write(f\"\\r[{'=' * done}{' ' * (50-done)}] {dl} bytes downloaded\")\n",
        "                sys.stdout.flush()\n",
        "                data = fileres.read(CHUNK_SIZE)\n",
        "            if filename.endswith('.zip'):\n",
        "              with ZipFile(tfile) as zfile:\n",
        "                zfile.extractall(destination_path)\n",
        "            else:\n",
        "              with tarfile.open(tfile.name) as tarfile:\n",
        "                tarfile.extractall(destination_path)\n",
        "            print(f'\\nDownloaded and uncompressed: {directory}')\n",
        "    except HTTPError as e:\n",
        "        print(f'Failed to load (likely expired) {download_url} to path {destination_path}')\n",
        "        continue\n",
        "    except OSError as e:\n",
        "        print(f'Failed to load {download_url} to path {destination_path}')\n",
        "        continue\n",
        "\n",
        "print('Data source import complete.')\n"
      ],
      "metadata": {
        "id": "GWepnV-WRd0a"
      },
      "cell_type": "code",
      "outputs": [],
      "execution_count": null
    },
    {
      "cell_type": "markdown",
      "source": [
        "## Problem Statement:\n",
        "In recent years, attention has increasingly been paid to human resources (HR), since worker quality and skills represent a growth factor and a real competitive advantage for companies. After proving its mettle in sales and marketing, analytics and artificial intelligence is also becoming central to employee-related decisions within HR management. Organizational growth largely depends on staff retention. Losing employees frequently impacts the morale of the organization and hiring new employees is more expensive than retaining existing ones."
      ],
      "metadata": {
        "id": "1J6td80SRd0f"
      }
    },
    {
      "cell_type": "code",
      "source": [
        "import pandas as pd\n",
        "data = pd.read_csv('../input/predicting-employee-attrition/train_data.csv')\n",
        "data.head()"
      ],
      "metadata": {
        "execution": {
          "iopub.status.busy": "2021-12-13T13:47:30.972064Z",
          "iopub.execute_input": "2021-12-13T13:47:30.972506Z",
          "iopub.status.idle": "2021-12-13T13:47:31.067611Z",
          "shell.execute_reply.started": "2021-12-13T13:47:30.972407Z",
          "shell.execute_reply": "2021-12-13T13:47:31.0666Z"
        },
        "trusted": true,
        "id": "9wPBY9BrRd0h"
      },
      "execution_count": null,
      "outputs": []
    },
    {
      "cell_type": "markdown",
      "source": [
        "### Data Cleaning:\n",
        "* Remove all duplicate instances of one id\n",
        "* Create label class\n",
        "* Create 'TotalWorkingYears' column\n",
        "* Convert salary to 'High','Low','Moderate'\n"
      ],
      "metadata": {
        "id": "dPmfNYHaRd0i"
      }
    },
    {
      "cell_type": "code",
      "source": [
        "m1 = ~data.duplicated(['Emp_ID'], keep='last')"
      ],
      "metadata": {
        "execution": {
          "iopub.status.busy": "2021-12-13T13:47:31.069404Z",
          "iopub.execute_input": "2021-12-13T13:47:31.069777Z",
          "iopub.status.idle": "2021-12-13T13:47:31.082145Z",
          "shell.execute_reply.started": "2021-12-13T13:47:31.069736Z",
          "shell.execute_reply": "2021-12-13T13:47:31.081141Z"
        },
        "trusted": true,
        "id": "Zz0DzM-aRd0i"
      },
      "execution_count": null,
      "outputs": []
    },
    {
      "cell_type": "code",
      "source": [
        "final_d=data.loc[m1]"
      ],
      "metadata": {
        "execution": {
          "iopub.status.busy": "2021-12-13T13:47:31.083755Z",
          "iopub.execute_input": "2021-12-13T13:47:31.084703Z",
          "iopub.status.idle": "2021-12-13T13:47:31.09226Z",
          "shell.execute_reply.started": "2021-12-13T13:47:31.084661Z",
          "shell.execute_reply": "2021-12-13T13:47:31.091522Z"
        },
        "trusted": true,
        "id": "oTirps4_Rd0i"
      },
      "execution_count": null,
      "outputs": []
    },
    {
      "cell_type": "code",
      "source": [
        "final_d[final_d['Emp_ID']==2]"
      ],
      "metadata": {
        "execution": {
          "iopub.status.busy": "2021-12-13T13:47:31.095212Z",
          "iopub.execute_input": "2021-12-13T13:47:31.095873Z",
          "iopub.status.idle": "2021-12-13T13:47:31.111549Z",
          "shell.execute_reply.started": "2021-12-13T13:47:31.095828Z",
          "shell.execute_reply": "2021-12-13T13:47:31.110855Z"
        },
        "trusted": true,
        "id": "ACwKspVNRd0j"
      },
      "execution_count": null,
      "outputs": []
    },
    {
      "cell_type": "code",
      "source": [
        "import numpy as np\n",
        "final_d.loc[:,'working'] = np.where(pd.isnull(final_d['LastWorkingDate']), 1, 0)"
      ],
      "metadata": {
        "execution": {
          "iopub.status.busy": "2021-12-13T13:47:31.11305Z",
          "iopub.execute_input": "2021-12-13T13:47:31.113515Z",
          "iopub.status.idle": "2021-12-13T13:47:31.121649Z",
          "shell.execute_reply.started": "2021-12-13T13:47:31.113482Z",
          "shell.execute_reply": "2021-12-13T13:47:31.120883Z"
        },
        "trusted": true,
        "id": "tgzeYdqERd0j"
      },
      "execution_count": null,
      "outputs": []
    },
    {
      "cell_type": "code",
      "source": [
        "final_d.head()"
      ],
      "metadata": {
        "execution": {
          "iopub.status.busy": "2021-12-13T13:47:31.122863Z",
          "iopub.execute_input": "2021-12-13T13:47:31.123613Z",
          "iopub.status.idle": "2021-12-13T13:47:31.139919Z",
          "shell.execute_reply.started": "2021-12-13T13:47:31.123539Z",
          "shell.execute_reply": "2021-12-13T13:47:31.139115Z"
        },
        "trusted": true,
        "id": "rDZeDxWDRd0k"
      },
      "execution_count": null,
      "outputs": []
    },
    {
      "cell_type": "code",
      "source": [
        "final_d.loc[2,'Dateofjoining']"
      ],
      "metadata": {
        "execution": {
          "iopub.status.busy": "2021-12-13T13:47:31.141231Z",
          "iopub.execute_input": "2021-12-13T13:47:31.141658Z",
          "iopub.status.idle": "2021-12-13T13:47:31.1487Z",
          "shell.execute_reply.started": "2021-12-13T13:47:31.141623Z",
          "shell.execute_reply": "2021-12-13T13:47:31.147952Z"
        },
        "trusted": true,
        "id": "S9tnzLRJRd0k"
      },
      "execution_count": null,
      "outputs": []
    },
    {
      "cell_type": "code",
      "source": [
        "if pd.isna(final_d.loc[4,'LastWorkingDate']):\n",
        "    print('Yes')"
      ],
      "metadata": {
        "execution": {
          "iopub.status.busy": "2021-12-13T13:47:31.150524Z",
          "iopub.execute_input": "2021-12-13T13:47:31.151517Z",
          "iopub.status.idle": "2021-12-13T13:47:31.158048Z",
          "shell.execute_reply.started": "2021-12-13T13:47:31.151472Z",
          "shell.execute_reply": "2021-12-13T13:47:31.1573Z"
        },
        "trusted": true,
        "id": "WTIU5MytRd0l"
      },
      "execution_count": null,
      "outputs": []
    },
    {
      "cell_type": "code",
      "source": [
        "from dateutil.relativedelta import relativedelta\n",
        "from datetime import datetime\n",
        "def timesub(x,y):\n",
        "    if pd.isnull(y):\n",
        "        y = datetime.today().strftime('%Y-%m-%d')\n",
        "    x_time = datetime.strptime(x, '%Y-%m-%d')\n",
        "    y_time = datetime.strptime(y, '%Y-%m-%d')\n",
        "    td=relativedelta(y_time,x_time)\n",
        "    return td.years\n"
      ],
      "metadata": {
        "execution": {
          "iopub.status.busy": "2021-12-13T13:47:31.159587Z",
          "iopub.execute_input": "2021-12-13T13:47:31.160433Z",
          "iopub.status.idle": "2021-12-13T13:47:31.168061Z",
          "shell.execute_reply.started": "2021-12-13T13:47:31.160396Z",
          "shell.execute_reply": "2021-12-13T13:47:31.167219Z"
        },
        "trusted": true,
        "id": "yq5IZgmgRd0l"
      },
      "execution_count": null,
      "outputs": []
    },
    {
      "cell_type": "code",
      "source": [
        "final_d['TotalWorkingYears']=final_d.apply(lambda x: timesub(x.Dateofjoining, x.LastWorkingDate), axis=1)"
      ],
      "metadata": {
        "execution": {
          "iopub.status.busy": "2021-12-13T13:47:31.171742Z",
          "iopub.execute_input": "2021-12-13T13:47:31.172182Z",
          "iopub.status.idle": "2021-12-13T13:47:31.367861Z",
          "shell.execute_reply.started": "2021-12-13T13:47:31.172139Z",
          "shell.execute_reply": "2021-12-13T13:47:31.367116Z"
        },
        "trusted": true,
        "id": "FOugLK-wRd0l"
      },
      "execution_count": null,
      "outputs": []
    },
    {
      "cell_type": "code",
      "source": [
        "final_d['TotalWorkingYears'].head()"
      ],
      "metadata": {
        "execution": {
          "iopub.status.busy": "2021-12-13T13:47:31.369138Z",
          "iopub.execute_input": "2021-12-13T13:47:31.369558Z",
          "iopub.status.idle": "2021-12-13T13:47:31.37672Z",
          "shell.execute_reply.started": "2021-12-13T13:47:31.369523Z",
          "shell.execute_reply": "2021-12-13T13:47:31.375836Z"
        },
        "trusted": true,
        "id": "D87oXAjMRd0m"
      },
      "execution_count": null,
      "outputs": []
    },
    {
      "cell_type": "code",
      "source": [],
      "metadata": {
        "id": "6sk3wPTgRd0m"
      },
      "execution_count": null,
      "outputs": []
    },
    {
      "cell_type": "code",
      "source": [
        "final_d[['Total Business Value','Salary']].describe()"
      ],
      "metadata": {
        "execution": {
          "iopub.status.busy": "2021-12-13T13:47:31.379307Z",
          "iopub.execute_input": "2021-12-13T13:47:31.379633Z",
          "iopub.status.idle": "2021-12-13T13:47:31.400679Z",
          "shell.execute_reply.started": "2021-12-13T13:47:31.379596Z",
          "shell.execute_reply": "2021-12-13T13:47:31.399816Z"
        },
        "trusted": true,
        "id": "vm0dximWRd0n"
      },
      "execution_count": null,
      "outputs": []
    },
    {
      "cell_type": "code",
      "source": [
        "def sal(x):\n",
        "    if x < 40000:\n",
        "        return 'Low'\n",
        "    elif x >= 40000 and x < 65000:\n",
        "        return 'Medium'\n",
        "    else:\n",
        "        return 'High'\n",
        "\n",
        "def busvalue(x):\n",
        "    if x<=0:\n",
        "        return 'Loss'\n",
        "    else:\n",
        "        return 'Profit'\n",
        "final_d['SalaryCat']=final_d['Salary'].apply(sal)\n",
        "final_d['Total Business Value']=final_d['Total Business Value'].apply(busvalue)\n",
        "final_d.head()"
      ],
      "metadata": {
        "execution": {
          "iopub.status.busy": "2021-12-13T13:47:31.402097Z",
          "iopub.execute_input": "2021-12-13T13:47:31.40239Z",
          "iopub.status.idle": "2021-12-13T13:47:31.425943Z",
          "shell.execute_reply.started": "2021-12-13T13:47:31.402353Z",
          "shell.execute_reply": "2021-12-13T13:47:31.425121Z"
        },
        "trusted": true,
        "id": "4PY2983KRd0n"
      },
      "execution_count": null,
      "outputs": []
    },
    {
      "cell_type": "markdown",
      "source": [
        "Get a high level overview of all numerical variables' correlation with each other"
      ],
      "metadata": {
        "id": "myAHoyNJRd0n"
      }
    },
    {
      "cell_type": "code",
      "source": [
        "import matplotlib.pyplot as plt\n",
        "import seaborn as sns\n",
        "\n",
        "plt.figure(figsize=(10, 8), dpi=80)\n",
        "corr=final_d.corr()\n",
        "sns.heatmap(corr, annot=True,cmap=\"crest\")\n",
        "plt.show()"
      ],
      "metadata": {
        "execution": {
          "iopub.status.busy": "2021-12-13T13:47:31.427256Z",
          "iopub.execute_input": "2021-12-13T13:47:31.428084Z",
          "iopub.status.idle": "2021-12-13T13:47:32.799692Z",
          "shell.execute_reply.started": "2021-12-13T13:47:31.428042Z",
          "shell.execute_reply": "2021-12-13T13:47:32.798928Z"
        },
        "trusted": true,
        "id": "LmAYV_BrRd0o"
      },
      "execution_count": null,
      "outputs": []
    },
    {
      "cell_type": "markdown",
      "source": [
        "Designation should be categorical but the datatype is integer that's why has been plotted in the heatmap"
      ],
      "metadata": {
        "id": "ByG0zLSjRd0o"
      }
    },
    {
      "cell_type": "code",
      "source": [
        "print(final_d['Designation'].dtypes,final_d['Joining Designation'].dtypes)"
      ],
      "metadata": {
        "execution": {
          "iopub.status.busy": "2021-12-13T13:47:32.800998Z",
          "iopub.execute_input": "2021-12-13T13:47:32.80138Z",
          "iopub.status.idle": "2021-12-13T13:47:32.809012Z",
          "shell.execute_reply.started": "2021-12-13T13:47:32.801338Z",
          "shell.execute_reply": "2021-12-13T13:47:32.808105Z"
        },
        "trusted": true,
        "id": "_0Bcq0lpRd0o"
      },
      "execution_count": null,
      "outputs": []
    },
    {
      "cell_type": "markdown",
      "source": [
        "Let's plot it against categorical variables too"
      ],
      "metadata": {
        "id": "mG0RZztmRd0o"
      }
    },
    {
      "cell_type": "code",
      "source": [
        "final_d['Designation']=final_d['Designation'].apply(str)\n",
        "final_d['Joining Designation']=final_d['Joining Designation'].apply(str)"
      ],
      "metadata": {
        "execution": {
          "iopub.status.busy": "2021-12-13T13:47:32.810561Z",
          "iopub.execute_input": "2021-12-13T13:47:32.811372Z",
          "iopub.status.idle": "2021-12-13T13:47:32.820885Z",
          "shell.execute_reply.started": "2021-12-13T13:47:32.811323Z",
          "shell.execute_reply": "2021-12-13T13:47:32.820124Z"
        },
        "collapsed": true,
        "jupyter": {
          "outputs_hidden": true
        },
        "trusted": true,
        "id": "7DJu56ghRd0p"
      },
      "execution_count": null,
      "outputs": []
    },
    {
      "cell_type": "code",
      "source": [
        "plt.figure(figsize=(10,8))\n",
        "ax=sns.countplot(x=\"Gender\", hue=\"working\", data=final_d,palette='crest')\n",
        "bars = ax.patches\n",
        "half = int(len(bars)/2)\n",
        "left_bars = bars[:half]\n",
        "right_bars = bars[half:]\n",
        "\n",
        "for left, right in zip(left_bars, right_bars):\n",
        "        height_l = left.get_height()\n",
        "        height_r = right.get_height()\n",
        "        total = height_l + height_r\n",
        "        ax.text(left.get_x() + left.get_width()/2., height_l + 10, '{0:.0%}'.format(height_l/total), ha=\"center\")\n",
        "        ax.text(right.get_x() + right.get_width()/2., height_r + 10, '{0:.0%}'.format(height_r/total), ha=\"center\")\n",
        "plt.show()"
      ],
      "metadata": {
        "execution": {
          "iopub.status.busy": "2021-12-13T13:47:32.824694Z",
          "iopub.execute_input": "2021-12-13T13:47:32.825268Z",
          "iopub.status.idle": "2021-12-13T13:47:33.038919Z",
          "shell.execute_reply.started": "2021-12-13T13:47:32.825221Z",
          "shell.execute_reply": "2021-12-13T13:47:33.038055Z"
        },
        "trusted": true,
        "id": "cFyGx2JdRd0p"
      },
      "execution_count": null,
      "outputs": []
    },
    {
      "cell_type": "markdown",
      "source": [
        "The ratios in our data are the same. Gender isn't a strong determinant of an employee beeing attrited or not."
      ],
      "metadata": {
        "id": "88ybJ2XHRd0p"
      }
    },
    {
      "cell_type": "code",
      "source": [
        "plt.figure(figsize=(10,8))\n",
        "ax=sns.countplot(x=\"Education_Level\", hue=\"working\", data=final_d,palette='crest')\n",
        "bars = ax.patches\n",
        "half = int(len(bars)/2)\n",
        "left_bars = bars[:half]\n",
        "right_bars = bars[half:]\n",
        "\n",
        "for left, right in zip(left_bars, right_bars):\n",
        "        height_l = left.get_height()\n",
        "        height_r = right.get_height()\n",
        "        total = height_l + height_r\n",
        "        ax.text(left.get_x() + left.get_width()/2., height_l + 10, '{0:.0%}'.format(height_l/total), ha=\"center\")\n",
        "        ax.text(right.get_x() + right.get_width()/2., height_r + 10, '{0:.0%}'.format(height_r/total), ha=\"center\")\n",
        "plt.show()"
      ],
      "metadata": {
        "execution": {
          "iopub.status.busy": "2021-12-13T13:47:33.041203Z",
          "iopub.execute_input": "2021-12-13T13:47:33.041779Z",
          "iopub.status.idle": "2021-12-13T13:47:33.28197Z",
          "shell.execute_reply.started": "2021-12-13T13:47:33.041733Z",
          "shell.execute_reply": "2021-12-13T13:47:33.281249Z"
        },
        "trusted": true,
        "id": "lxuxqCCORd0q"
      },
      "execution_count": null,
      "outputs": []
    },
    {
      "cell_type": "markdown",
      "source": [
        "There isn't a lot of difference in the values for attrited and non attrited employees.   \n",
        "Insight: Education isn't a big factor contributing to higher attrition"
      ],
      "metadata": {
        "id": "G--V7lLKRd0q"
      }
    },
    {
      "cell_type": "code",
      "source": [
        "plt.figure(figsize=(10,8))\n",
        "ax=sns.countplot(x=\"Total Business Value\", hue=\"working\", data=final_d,palette='crest')\n",
        "bars = ax.patches\n",
        "half = int(len(bars)/2)\n",
        "left_bars = bars[:half]\n",
        "right_bars = bars[half:]\n",
        "\n",
        "for left, right in zip(left_bars, right_bars):\n",
        "        height_l = left.get_height()\n",
        "        height_r = right.get_height()\n",
        "        total = height_l + height_r\n",
        "        ax.text(left.get_x() + left.get_width()/2., height_l + 10, '{0:.0%}'.format(height_l/total), ha=\"center\")\n",
        "        ax.text(right.get_x() + right.get_width()/2., height_r + 10, '{0:.0%}'.format(height_r/total), ha=\"center\")\n",
        "plt.show()"
      ],
      "metadata": {
        "execution": {
          "iopub.status.busy": "2021-12-13T13:47:33.283985Z",
          "iopub.execute_input": "2021-12-13T13:47:33.284516Z",
          "iopub.status.idle": "2021-12-13T13:47:33.510118Z",
          "shell.execute_reply.started": "2021-12-13T13:47:33.284476Z",
          "shell.execute_reply": "2021-12-13T13:47:33.509416Z"
        },
        "trusted": true,
        "id": "cTKSrth1Rd0q"
      },
      "execution_count": null,
      "outputs": []
    },
    {
      "cell_type": "markdown",
      "source": [
        "* Employees who help grow the business/company are more likely to stay. Seeing positive changes because of oneself keeps one motivated to keep doing it\n",
        "* Employees who've caused the company a loss, are largely likely to leave."
      ],
      "metadata": {
        "id": "6fFe7QnPRd0r"
      }
    },
    {
      "cell_type": "code",
      "source": [
        "plt.figure(figsize=(10,8))\n",
        "ax=sns.countplot(x=\"Designation\", hue=\"working\", data=final_d,palette='crest')\n",
        "bars = ax.patches\n",
        "half = int(len(bars)/2)\n",
        "left_bars = bars[:half]\n",
        "right_bars = bars[half:]\n",
        "\n",
        "for left, right in zip(left_bars, right_bars):\n",
        "        height_l = left.get_height()\n",
        "        height_r = right.get_height()\n",
        "        total = height_l + height_r\n",
        "        ax.text(left.get_x() + left.get_width()/2., height_l + 10, '{0:.0%}'.format(height_l/total), ha=\"center\")\n",
        "        ax.text(right.get_x() + right.get_width()/2., height_r + 10, '{0:.0%}'.format(height_r/total), ha=\"center\")\n",
        "plt.show()"
      ],
      "metadata": {
        "execution": {
          "iopub.status.busy": "2021-12-13T13:47:33.511583Z",
          "iopub.execute_input": "2021-12-13T13:47:33.511827Z",
          "iopub.status.idle": "2021-12-13T13:47:33.764664Z",
          "shell.execute_reply.started": "2021-12-13T13:47:33.511794Z",
          "shell.execute_reply": "2021-12-13T13:47:33.764014Z"
        },
        "trusted": true,
        "id": "DQoM_q4NRd0r"
      },
      "execution_count": null,
      "outputs": []
    },
    {
      "cell_type": "markdown",
      "source": [
        "The attrited employees are significatnly higher for job designations 1 and 2 than others."
      ],
      "metadata": {
        "id": "j1SGQ_OvRd0r"
      }
    },
    {
      "cell_type": "code",
      "source": [
        "sns.catplot(x=\"Designation\", y=\"Salary\",  data=final_d)"
      ],
      "metadata": {
        "execution": {
          "iopub.status.busy": "2021-12-13T13:47:33.766138Z",
          "iopub.execute_input": "2021-12-13T13:47:33.766552Z",
          "iopub.status.idle": "2021-12-13T13:47:34.089722Z",
          "shell.execute_reply.started": "2021-12-13T13:47:33.766516Z",
          "shell.execute_reply": "2021-12-13T13:47:34.089035Z"
        },
        "trusted": true,
        "id": "uWj62v5zRd0r"
      },
      "execution_count": null,
      "outputs": []
    },
    {
      "cell_type": "markdown",
      "source": [
        "It makes sense that '1' and '2' have lower salaries compararively. Higher salary is a usualy motivation to keep working in the same company   \n",
        "The currency of this dataset hasn't been specified. But if it was, we could dig in a little more to compare these salaries to living cost of a single person and a family."
      ],
      "metadata": {
        "id": "VrCYGmG4Rd0s"
      }
    },
    {
      "cell_type": "markdown",
      "source": [
        "Working seems to be highly correlated to total working year"
      ],
      "metadata": {
        "id": "ItmODvDyRd0s"
      }
    },
    {
      "cell_type": "code",
      "source": [
        "plt.figure(figsize=(6,6))\n",
        "y=final_d['TotalWorkingYears']\n",
        "sns.boxplot(y=y,x=final_d['working'],palette='crest')"
      ],
      "metadata": {
        "execution": {
          "iopub.status.busy": "2021-12-13T13:47:34.091221Z",
          "iopub.execute_input": "2021-12-13T13:47:34.09173Z",
          "iopub.status.idle": "2021-12-13T13:47:34.306057Z",
          "shell.execute_reply.started": "2021-12-13T13:47:34.091678Z",
          "shell.execute_reply": "2021-12-13T13:47:34.305364Z"
        },
        "trusted": true,
        "id": "yA-qHqpJRd0s"
      },
      "execution_count": null,
      "outputs": []
    },
    {
      "cell_type": "markdown",
      "source": [
        "* Employees in their early years of career tend to resign a lot more than employees who've worked in the company for >4 years"
      ],
      "metadata": {
        "id": "LIqvovUuRd0t"
      }
    },
    {
      "cell_type": "code",
      "source": [
        "y=final_d['Quarterly Rating']\n",
        "x=final_d['working']\n",
        "sns.countplot(hue=y,x=final_d['working'],palette='crest')"
      ],
      "metadata": {
        "execution": {
          "iopub.status.busy": "2021-12-13T13:47:34.307538Z",
          "iopub.execute_input": "2021-12-13T13:47:34.30778Z",
          "iopub.status.idle": "2021-12-13T13:47:34.551651Z",
          "shell.execute_reply.started": "2021-12-13T13:47:34.307747Z",
          "shell.execute_reply": "2021-12-13T13:47:34.55099Z"
        },
        "trusted": true,
        "id": "iEL28XEkRd0t"
      },
      "execution_count": null,
      "outputs": []
    },
    {
      "cell_type": "markdown",
      "source": [
        "Most employees with low quarterly rating have a higher chance of leaving the company"
      ],
      "metadata": {
        "id": "6VqS_wX-Rd0t"
      }
    },
    {
      "cell_type": "markdown",
      "source": [
        "Salary annd designation don't seem strongly correlated with attrition. Let's plot them against each other"
      ],
      "metadata": {
        "id": "TsVQGzOHRd0u"
      }
    },
    {
      "cell_type": "code",
      "source": [
        "wor=final_d[final_d['working']==1]\n",
        "nowor=final_d[final_d['working']==0]\n",
        "sns.kdeplot(wor.Salary)\n",
        "sns.kdeplot(nowor.Salary)\n",
        "plt.legend(('Yes', 'No'))"
      ],
      "metadata": {
        "execution": {
          "iopub.status.busy": "2021-12-13T13:47:34.553007Z",
          "iopub.execute_input": "2021-12-13T13:47:34.553472Z",
          "iopub.status.idle": "2021-12-13T13:47:34.829386Z",
          "shell.execute_reply.started": "2021-12-13T13:47:34.553436Z",
          "shell.execute_reply": "2021-12-13T13:47:34.828686Z"
        },
        "trusted": true,
        "id": "4bNIeNXHRd01"
      },
      "execution_count": null,
      "outputs": []
    },
    {
      "cell_type": "code",
      "source": [
        "#a=final_d[final_d['working']==1]['City']\n",
        "#b=final_d[final_d['working']==0]['City']\n",
        "a=dict(final_d.groupby(['City', 'working']).agg({'working':['count']}).apply(list))"
      ],
      "metadata": {
        "execution": {
          "iopub.status.busy": "2021-12-13T13:47:34.830721Z",
          "iopub.execute_input": "2021-12-13T13:47:34.830972Z",
          "iopub.status.idle": "2021-12-13T13:47:34.844446Z",
          "shell.execute_reply.started": "2021-12-13T13:47:34.830939Z",
          "shell.execute_reply": "2021-12-13T13:47:34.843679Z"
        },
        "trusted": true,
        "id": "LzTu719IRd02"
      },
      "execution_count": null,
      "outputs": []
    },
    {
      "cell_type": "code",
      "source": [
        "#working/total = working/working+notworking for each city\n",
        "listwork=[]\n",
        "listnotwork=[]\n",
        "for i in range(len(a[('working', 'count')])):\n",
        "    if i%2==0:\n",
        "        listnotwork.append(a[('working', 'count')][i])\n",
        "    else:\n",
        "        listwork.append(a[('working', 'count')][i])\n",
        "\n",
        "#working+total\n",
        "listratio=[a/(a+b) for a,b in zip(listwork,listnotwork)]"
      ],
      "metadata": {
        "execution": {
          "iopub.status.busy": "2021-12-13T13:47:34.847513Z",
          "iopub.execute_input": "2021-12-13T13:47:34.847716Z",
          "iopub.status.idle": "2021-12-13T13:47:34.854727Z",
          "shell.execute_reply.started": "2021-12-13T13:47:34.847692Z",
          "shell.execute_reply": "2021-12-13T13:47:34.853881Z"
        },
        "trusted": true,
        "id": "6IgLG66_Rd02"
      },
      "execution_count": null,
      "outputs": []
    },
    {
      "cell_type": "code",
      "source": [
        "print(listwork)\n",
        "print(listnotwork)"
      ],
      "metadata": {
        "execution": {
          "iopub.status.busy": "2021-12-13T13:47:34.856448Z",
          "iopub.execute_input": "2021-12-13T13:47:34.856957Z",
          "iopub.status.idle": "2021-12-13T13:47:34.865967Z",
          "shell.execute_reply.started": "2021-12-13T13:47:34.856918Z",
          "shell.execute_reply": "2021-12-13T13:47:34.864358Z"
        },
        "trusted": true,
        "id": "ltxzprcCRd02"
      },
      "execution_count": null,
      "outputs": []
    },
    {
      "cell_type": "code",
      "source": [],
      "metadata": {
        "id": "SUikr2IYRd03"
      },
      "execution_count": null,
      "outputs": []
    },
    {
      "cell_type": "code",
      "source": [
        "plt.plot(listratio,linestyle='--')\n",
        "plt.ylim(0,1)"
      ],
      "metadata": {
        "execution": {
          "iopub.status.busy": "2021-12-13T13:47:34.866965Z",
          "iopub.execute_input": "2021-12-13T13:47:34.867234Z",
          "iopub.status.idle": "2021-12-13T13:47:35.063804Z",
          "shell.execute_reply.started": "2021-12-13T13:47:34.867189Z",
          "shell.execute_reply": "2021-12-13T13:47:35.063031Z"
        },
        "trusted": true,
        "id": "pCTtousJRd03"
      },
      "execution_count": null,
      "outputs": []
    },
    {
      "cell_type": "code",
      "source": [
        "del listwork\n",
        "del listnotwork\n",
        "stddev= np.std(np.array(listratio))\n",
        "mean=np.mean(np.array(listratio))\n",
        "print(mean,stddev)"
      ],
      "metadata": {
        "execution": {
          "iopub.status.busy": "2021-12-13T13:47:35.06511Z",
          "iopub.execute_input": "2021-12-13T13:47:35.065464Z",
          "iopub.status.idle": "2021-12-13T13:47:35.071733Z",
          "shell.execute_reply.started": "2021-12-13T13:47:35.065424Z",
          "shell.execute_reply": "2021-12-13T13:47:35.071005Z"
        },
        "trusted": true,
        "id": "cFErBAruRd03"
      },
      "execution_count": null,
      "outputs": []
    },
    {
      "cell_type": "markdown",
      "source": [
        "The standard deviation isn't very large, meaning an employee's being attrited doesn't depend on where they're from"
      ],
      "metadata": {
        "id": "uQjG6zXzRd04"
      }
    },
    {
      "cell_type": "code",
      "source": [
        "final_d.head()"
      ],
      "metadata": {
        "execution": {
          "iopub.status.busy": "2021-12-13T13:47:35.073055Z",
          "iopub.execute_input": "2021-12-13T13:47:35.073852Z",
          "iopub.status.idle": "2021-12-13T13:47:35.095677Z",
          "shell.execute_reply.started": "2021-12-13T13:47:35.073815Z",
          "shell.execute_reply": "2021-12-13T13:47:35.094881Z"
        },
        "trusted": true,
        "id": "-InUgQiCRd04"
      },
      "execution_count": null,
      "outputs": []
    }
  ]
}